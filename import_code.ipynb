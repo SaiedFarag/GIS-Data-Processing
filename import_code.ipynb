{
 "cells": [
  {
   "cell_type": "code",
   "execution_count": 24,
   "id": "b030f8d5-5465-418d-884b-f10d0b18180e",
   "metadata": {},
   "outputs": [],
   "source": [
    "import pandas as pd\n",
    "import geopandas as gpd\n",
    "import pyodbc\n",
    "from shapely.geometry import Polygon, MultiPolygon\n",
    "from shapely.geometry import mapping\n",
    "import json\n",
    "from geoalchemy2 import Geometry, WKTElement\n",
    "import sqlalchemy as sal\n",
    "from datetime import datetime"
   ]
  },
  {
   "cell_type": "code",
   "execution_count": 25,
   "id": "7cef731d-d77f-4f25-a910-fb28cef54d9b",
   "metadata": {},
   "outputs": [
    {
     "data": {
      "text/plain": [
       "<Projected CRS: EPSG:3857>\n",
       "Name: WGS 84 / Pseudo-Mercator\n",
       "Axis Info [cartesian]:\n",
       "- X[east]: Easting (metre)\n",
       "- Y[north]: Northing (metre)\n",
       "Area of Use:\n",
       "- name: World between 85.06°S and 85.06°N.\n",
       "- bounds: (-180.0, -85.06, 180.0, 85.06)\n",
       "Coordinate Operation:\n",
       "- name: Popular Visualisation Pseudo-Mercator\n",
       "- method: Popular Visualisation Pseudo Mercator\n",
       "Datum: World Geodetic System 1984 ensemble\n",
       "- Ellipsoid: WGS 84\n",
       "- Prime Meridian: Greenwich"
      ]
     },
     "execution_count": 25,
     "metadata": {},
     "output_type": "execute_result"
    }
   ],
   "source": [
    "districts = gpd.read_file(r'data\\WV_Tax_Districts_wmA84\\WV_Tax_Districts_wmA84.shp')\n",
    "districts.crs"
   ]
  },
  {
   "cell_type": "code",
   "execution_count": 26,
   "id": "d2b47e2c-a608-4682-914b-09e35f17de19",
   "metadata": {},
   "outputs": [],
   "source": [
    "server = 'm1data.database.windows.net' \n",
    "database = 'm1core.v3' \n",
    "username = 'Sayyed_dev' \n",
    "password = 'L32IsFgvF20grxRrXZ08' "
   ]
  },
  {
   "cell_type": "code",
   "execution_count": 27,
   "id": "b98174fc-b2ff-4d1e-8f35-0048c175601d",
   "metadata": {},
   "outputs": [],
   "source": [
    "cnxn = pyodbc.connect('DRIVER={SQL Server};SERVER='+server+';DATABASE='+database+';UID='+username+';PWD='+ password)\n",
    "cursor = cnxn.cursor()"
   ]
  },
  {
   "cell_type": "code",
   "execution_count": 28,
   "id": "d3f1b03a-63e9-4360-943d-9ae25c2e9c33",
   "metadata": {},
   "outputs": [],
   "source": [
    "districts.rename(columns={'OBJECTID':'SourceObjectID',\n",
    "                          'WV_ID':'WVID',\n",
    "                          'DNAME':'DistrictName',\n",
    "                          'CNAME':'CountyName',\n",
    "                          'LABEL':'LabelName',\n",
    "                          'DNumber':'DistrictID',\n",
    "                          'CNumber':'CountyID'}, inplace=True)"
   ]
  },
  {
   "cell_type": "code",
   "execution_count": 29,
   "id": "299c8bb1-1d96-4bc4-bcc7-1b673323f328",
   "metadata": {},
   "outputs": [],
   "source": [
    "districts[['DataSource','SourceDateTime','SysStartTime','SysEndTime']] = ''\n",
    "districts = districts.drop(columns='Meta')\n",
    "districts = districts.drop(columns='Type')\n",
    "districts[['SourceObjectID', 'WVID', 'DistrictID', 'CountyID']] = districts[['SourceObjectID', 'WVID', 'DistrictID', 'CountyID']].astype(str)"
   ]
  },
  {
   "cell_type": "code",
   "execution_count": 30,
   "id": "632514e7-f94a-46ef-b081-e528783826c9",
   "metadata": {},
   "outputs": [],
   "source": [
    "districts['GeoJSON'] = ''\n",
    "for index, row in districts.iterrows():\n",
    "    properties = row.drop('geometry').to_dict()  # Exclude the geometry column\n",
    "    geometry = mapping(districts['geometry'].iloc[index])  # Convert MultiPolygon to GeoJSON-like dictionary\n",
    "    feature = {\n",
    "        \"type\": \"Feature\",\n",
    "        \"properties\": properties,\n",
    "        \"geometry\": geometry\n",
    "    }\n",
    "    # Update the 'geojson' column with the GeoJSON string\n",
    "    districts.at[index, 'GeoJSON'] = json.dumps(feature)"
   ]
  },
  {
   "cell_type": "code",
   "execution_count": 31,
   "id": "4d9393be-97d3-4f14-b70c-475af5a52940",
   "metadata": {},
   "outputs": [],
   "source": [
    "# def wkb_hexer(line):\n",
    "#     return line.wkb_hex\n",
    "\n",
    "# # Convert `'geom'` column in GeoDataFrame `gdf` to hex\n",
    "#     # Note that following this step, the GeoDataFrame is just a regular DataFrame\n",
    "#     # because it does not have a geometry column anymore. Also note that\n",
    "#     # it is assumed the `'geom'` column is correctly datatyped.\n",
    "# districts['geom'] = districts['geometry'].apply(wkb_hexer)"
   ]
  },
  {
   "cell_type": "code",
   "execution_count": 32,
   "id": "7032e3d3-c125-4529-b605-274a15228ef7",
   "metadata": {},
   "outputs": [],
   "source": [
    "# order = ['SourceObjectID','WVID','DistrictID','DistrictName','CountyID','CountyName','LabelName','GeoJSON','geom','DataSource','SourceDateTime','SysStartTime','SysEndTime','geometry']\n",
    "# districts = districts[order]\n",
    "# districts.dtypes"
   ]
  },
  {
   "cell_type": "code",
   "execution_count": 33,
   "id": "1305b61f-ccbb-49ce-aec1-e98250eb11ec",
   "metadata": {},
   "outputs": [
    {
     "data": {
      "text/html": [
       "<div>\n",
       "<style scoped>\n",
       "    .dataframe tbody tr th:only-of-type {\n",
       "        vertical-align: middle;\n",
       "    }\n",
       "\n",
       "    .dataframe tbody tr th {\n",
       "        vertical-align: top;\n",
       "    }\n",
       "\n",
       "    .dataframe thead th {\n",
       "        text-align: right;\n",
       "    }\n",
       "</style>\n",
       "<table border=\"1\" class=\"dataframe\">\n",
       "  <thead>\n",
       "    <tr style=\"text-align: right;\">\n",
       "      <th></th>\n",
       "      <th>SourceObjectID</th>\n",
       "      <th>WVID</th>\n",
       "      <th>DistrictName</th>\n",
       "      <th>CountyName</th>\n",
       "      <th>DistrictID</th>\n",
       "      <th>CountyID</th>\n",
       "      <th>LabelName</th>\n",
       "      <th>geometry</th>\n",
       "      <th>DataSource</th>\n",
       "      <th>SourceDateTime</th>\n",
       "      <th>SysStartTime</th>\n",
       "      <th>SysEndTime</th>\n",
       "      <th>GeoJSON</th>\n",
       "    </tr>\n",
       "  </thead>\n",
       "  <tbody>\n",
       "    <tr>\n",
       "      <th>0</th>\n",
       "      <td>1</td>\n",
       "      <td>336</td>\n",
       "      <td>Beaver Pond District</td>\n",
       "      <td>Mercer</td>\n",
       "      <td>2</td>\n",
       "      <td>28</td>\n",
       "      <td>Beaver Pond</td>\n",
       "      <td>MULTIPOLYGON (((-9030113.274 4477713.248, -903...</td>\n",
       "      <td></td>\n",
       "      <td></td>\n",
       "      <td></td>\n",
       "      <td></td>\n",
       "      <td>{\"type\": \"Feature\", \"properties\": {\"SourceObje...</td>\n",
       "    </tr>\n",
       "  </tbody>\n",
       "</table>\n",
       "</div>"
      ],
      "text/plain": [
       "  SourceObjectID WVID          DistrictName CountyName DistrictID CountyID  \\\n",
       "0              1  336  Beaver Pond District     Mercer          2       28   \n",
       "\n",
       "     LabelName                                           geometry DataSource  \\\n",
       "0  Beaver Pond  MULTIPOLYGON (((-9030113.274 4477713.248, -903...              \n",
       "\n",
       "  SourceDateTime SysStartTime SysEndTime  \\\n",
       "0                                          \n",
       "\n",
       "                                             GeoJSON  \n",
       "0  {\"type\": \"Feature\", \"properties\": {\"SourceObje...  "
      ]
     },
     "execution_count": 33,
     "metadata": {},
     "output_type": "execute_result"
    }
   ],
   "source": [
    "districts.head(1)"
   ]
  },
  {
   "cell_type": "code",
   "execution_count": 34,
   "id": "5e5c070b-006f-48c5-9ba1-5b26751e2da1",
   "metadata": {},
   "outputs": [],
   "source": [
    "districts['geom'] = districts['geometry']\n",
    "districts['geom'] = districts['geom'].astype(str)"
   ]
  },
  {
   "cell_type": "code",
   "execution_count": 36,
   "id": "3abd7523-41c7-47fe-ad0e-7c55d08e20dc",
   "metadata": {},
   "outputs": [
    {
     "data": {
      "text/plain": [
       "SourceObjectID      object\n",
       "WVID                object\n",
       "DistrictID          object\n",
       "DistrictName        object\n",
       "CountyID            object\n",
       "CountyName          object\n",
       "LabelName           object\n",
       "GeoJSON             object\n",
       "geom                object\n",
       "DataSource          object\n",
       "SourceDateTime      object\n",
       "SysStartTime        object\n",
       "SysEndTime          object\n",
       "geometry          geometry\n",
       "dtype: object"
      ]
     },
     "execution_count": 36,
     "metadata": {},
     "output_type": "execute_result"
    }
   ],
   "source": [
    "order = ['SourceObjectID','WVID','DistrictID','DistrictName','CountyID','CountyName','LabelName','GeoJSON','geom','DataSource','SourceDateTime','SysStartTime','SysEndTime','geometry']\n",
    "districts = districts[order]\n",
    "districts.dtypes"
   ]
  },
  {
   "cell_type": "code",
   "execution_count": 38,
   "id": "e6a4fee5-9fa2-4c51-b5f7-71ea6e3ab362",
   "metadata": {},
   "outputs": [
    {
     "data": {
      "text/html": [
       "<div>\n",
       "<style scoped>\n",
       "    .dataframe tbody tr th:only-of-type {\n",
       "        vertical-align: middle;\n",
       "    }\n",
       "\n",
       "    .dataframe tbody tr th {\n",
       "        vertical-align: top;\n",
       "    }\n",
       "\n",
       "    .dataframe thead th {\n",
       "        text-align: right;\n",
       "    }\n",
       "</style>\n",
       "<table border=\"1\" class=\"dataframe\">\n",
       "  <thead>\n",
       "    <tr style=\"text-align: right;\">\n",
       "      <th></th>\n",
       "      <th>SourceObjectID</th>\n",
       "      <th>WVID</th>\n",
       "      <th>DistrictID</th>\n",
       "      <th>DistrictName</th>\n",
       "      <th>CountyID</th>\n",
       "      <th>CountyName</th>\n",
       "      <th>LabelName</th>\n",
       "      <th>GeoJSON</th>\n",
       "      <th>geom</th>\n",
       "      <th>DataSource</th>\n",
       "      <th>SourceDateTime</th>\n",
       "      <th>SysStartTime</th>\n",
       "      <th>SysEndTime</th>\n",
       "      <th>geometry</th>\n",
       "    </tr>\n",
       "  </thead>\n",
       "  <tbody>\n",
       "    <tr>\n",
       "      <th>0</th>\n",
       "      <td>1</td>\n",
       "      <td>336</td>\n",
       "      <td>2</td>\n",
       "      <td>Beaver Pond District</td>\n",
       "      <td>28</td>\n",
       "      <td>Mercer</td>\n",
       "      <td>Beaver Pond</td>\n",
       "      <td>{\"type\": \"Feature\", \"properties\": {\"SourceObje...</td>\n",
       "      <td>MULTIPOLYGON (((-9030113.274402 4477713.248324...</td>\n",
       "      <td></td>\n",
       "      <td></td>\n",
       "      <td></td>\n",
       "      <td></td>\n",
       "      <td>MULTIPOLYGON (((-9030113.274 4477713.248, -903...</td>\n",
       "    </tr>\n",
       "  </tbody>\n",
       "</table>\n",
       "</div>"
      ],
      "text/plain": [
       "  SourceObjectID WVID DistrictID          DistrictName CountyID CountyName  \\\n",
       "0              1  336          2  Beaver Pond District       28     Mercer   \n",
       "\n",
       "     LabelName                                            GeoJSON  \\\n",
       "0  Beaver Pond  {\"type\": \"Feature\", \"properties\": {\"SourceObje...   \n",
       "\n",
       "                                                geom DataSource  \\\n",
       "0  MULTIPOLYGON (((-9030113.274402 4477713.248324...              \n",
       "\n",
       "  SourceDateTime SysStartTime SysEndTime  \\\n",
       "0                                          \n",
       "\n",
       "                                            geometry  \n",
       "0  MULTIPOLYGON (((-9030113.274 4477713.248, -903...  "
      ]
     },
     "execution_count": 38,
     "metadata": {},
     "output_type": "execute_result"
    }
   ],
   "source": [
    "districts.head(1)"
   ]
  },
  {
   "cell_type": "code",
   "execution_count": 37,
   "id": "fcbbd8fc-b10f-4572-94e2-8ec1016c815b",
   "metadata": {},
   "outputs": [],
   "source": [
    "current_datetime = datetime.now()"
   ]
  },
  {
   "cell_type": "code",
   "execution_count": 3,
   "id": "42bdeb3d-2220-4a8c-84c6-b9a2b5646f1e",
   "metadata": {
    "tags": []
   },
   "outputs": [],
   "source": [
    "# for index, row in districts.iterrows():\n",
    "#     print(index)\n",
    "#     cursor.execute(\"INSERT INTO dbo.WVTaxDistricts_Import (SourceObjectID,WVID,DistrictID,DistrictName,CountyID,CountyName,LabelName,GeoJSON,Geom,DataSource,SourceDateTime,SysStartTime,SysEndTime) VALUES (?,?,?,?,?,?,?,?,geometry::STGeomFromText(?, 3857),?,?,?,?)\",\n",
    "#                    row.SourceObjectID, row.WVID, row.DistrictID, row.DistrictName, row.CountyID, row.CountyName, row.LabelName, row.GeoJSON,\n",
    "#                    row.geom, row.DataSource, row.SourceDateTime, row.SysStartTime, row.SysEndTime)\n",
    "# cnxn.commit()\n",
    "# cursor.close()"
   ]
  },
  {
   "cell_type": "code",
   "execution_count": null,
   "id": "a19ed322-8c9e-40ef-bbcd-57e1d82adae1",
   "metadata": {},
   "outputs": [],
   "source": [
    "for index, row in districts.iterrows():\n",
    "    print(index)\n",
    "    cursor.execute(\"UPDATE dbo.WVTaxDistricts_Import SET SourceObjectID=?, WVID=?, DistrictID=?, DistrictName=?, CountyID=?, CountyName=?, LabelName=?, GeoJSON=?, Geom=geometry::STGeomFromText(?, 3857), DataSource='WV_Tax_Districts_wmA84', SourceDateTime=?, SysStartTime=?, SysEndTime=? WHERE Id=?\", \n",
    "                   row.SourceObjectID, row.WVID, row.DistrictID, row.DistrictName, row.CountyID, row.CountyName, row.LabelName, row.GeoJSON,\n",
    "                   row.geom, current_datetime, current_datetime, current_datetime, row.Id)\n",
    "\n",
    "cnxn.commit()\n",
    "cursor.close()"
   ]
  }
 ],
 "metadata": {
  "kernelspec": {
   "display_name": "Python 3 (ipykernel)",
   "language": "python",
   "name": "python3"
  },
  "language_info": {
   "codemirror_mode": {
    "name": "ipython",
    "version": 3
   },
   "file_extension": ".py",
   "mimetype": "text/x-python",
   "name": "python",
   "nbconvert_exporter": "python",
   "pygments_lexer": "ipython3",
   "version": "3.8.18"
  }
 },
 "nbformat": 4,
 "nbformat_minor": 5
}
