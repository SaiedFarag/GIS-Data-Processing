{
 "cells": [
  {
   "cell_type": "code",
   "execution_count": 1,
   "id": "2670adfe-a9ee-459c-adff-fd535cd97d3d",
   "metadata": {},
   "outputs": [
    {
     "name": "stderr",
     "output_type": "stream",
     "text": [
      "C:\\Users\\Eslam\\AppData\\Local\\Temp\\ipykernel_19084\\312472351.py:3: DeprecationWarning: Shapely 2.0 is installed, but because PyGEOS is also installed, GeoPandas still uses PyGEOS by default. However, starting with version 0.14, the default will switch to Shapely. To force to use Shapely 2.0 now, you can either uninstall PyGEOS or set the environment variable USE_PYGEOS=0. You can do this before starting the Python process, or in your code before importing geopandas:\n",
      "\n",
      "import os\n",
      "os.environ['USE_PYGEOS'] = '0'\n",
      "import geopandas\n",
      "\n",
      "In the next release, GeoPandas will switch to using Shapely by default, even if PyGEOS is installed. If you only have PyGEOS installed to get speed-ups, this switch should be smooth. However, if you are using PyGEOS directly (calling PyGEOS functions on geometries from GeoPandas), this will then stop working and you are encouraged to migrate from PyGEOS to Shapely 2.0 (https://shapely.readthedocs.io/en/latest/migration_pygeos.html).\n",
      "  import geopandas as gpd\n"
     ]
    }
   ],
   "source": [
    "# import the needed libraries\n",
    "import pandas as pd\n",
    "import geopandas as gpd\n",
    "import pyodbc\n",
    "from shapely.geometry import Polygon, MultiPolygon\n",
    "from shapely.geometry import mapping\n",
    "import json\n",
    "from geoalchemy2 import Geometry, WKTElement\n",
    "import sqlalchemy as sal\n",
    "from tqdm import tqdm\n",
    "# from multiprocessing import Pool, cpu_count"
   ]
  },
  {
   "cell_type": "code",
   "execution_count": 2,
   "id": "bacc2bfe-1e1b-4aa3-bf91-6af353ec8e2e",
   "metadata": {},
   "outputs": [
    {
     "data": {
      "text/plain": [
       "1487115"
      ]
     },
     "execution_count": 2,
     "metadata": {},
     "output_type": "execute_result"
    }
   ],
   "source": [
    "# reading the table that contains the attributes of the parcels, it is has been simplified in ArcGIS Pro Pro before exported in a csv file\n",
    "table = pd.read_csv('data_table1.csv')\n",
    "table.shape[0]"
   ]
  },
  {
   "cell_type": "code",
   "execution_count": 3,
   "id": "139a2ae9-f84f-41e0-af49-2be14d3ddf22",
   "metadata": {},
   "outputs": [
    {
     "data": {
      "text/plain": [
       "246739"
      ]
     },
     "execution_count": 3,
     "metadata": {},
     "output_type": "execute_result"
    }
   ],
   "source": [
    "# reading the first chunk that exported from the source dataset as a GeoDataFrame\n",
    "# it is exported from ArcGIS Pro with removing the Z dimention from the geometry\n",
    "#p1 = gpd.read_file('parcels.gdb', driver=\"OpenFileGDB\", layer='chunk_1_100000_v2')\n",
    "# p2 = gpd.read_file('parcels.gdb', driver=\"OpenFileGDB\", layer='chunk_2_100000_v2')\n",
    "# p3 = gpd.read_file('parcels.gdb', driver=\"OpenFileGDB\", layer='chunk_3_50000')\n",
    "# p4 = gpd.read_file('parcels.gdb', driver=\"OpenFileGDB\", layer='chunk_4_50000')\n",
    "# p5 = gpd.read_file('parcels.gdb', driver=\"OpenFileGDB\", layer='chunk_5_100000')\n",
    "# p6 = gpd.read_file('parcels.gdb', driver=\"OpenFileGDB\", layer='chunk_6_100000')\n",
    "# p8 = gpd.read_file('parcels.gdb', driver=\"OpenFileGDB\", layer='chunk_7_200000')[0:100000]\n",
    "#p8 = gpd.read_file('parcels.gdb', driver=\"OpenFileGDB\", layer='chunk_7_200000')[100000:]\n",
    "# p9 = gpd.read_file('parcels.gdb', driver=\"OpenFileGDB\", layer='chunk_9_100000')\n",
    "#p10 = gpd.read_file('parcels.gdb', driver=\"OpenFileGDB\", layer='chunk_10_100000')\n",
    "# p11 = gpd.read_file('parcels.gdb', driver=\"OpenFileGDB\", layer='chunk_11_250000')\n",
    "p12 = gpd.read_file('parcels.gdb', driver=\"OpenFileGDB\", layer='chunk_12_246739')\n",
    "p12.shape[0]"
   ]
  },
  {
   "cell_type": "code",
   "execution_count": 4,
   "id": "f9bde5f9-7cd6-4cb5-8664-0a61c99e6da4",
   "metadata": {},
   "outputs": [],
   "source": [
    "# create a new column for SourceObjectID and fill it with sequenced numbers\n",
    "#p1['SourceObjectID'] = range(100001, len(p1)+1)\n",
    "# p2['SourceObjectID'] = range(100001, 100001 + 100000)\n",
    "# p3['SourceObjectID'] = range(200001, 200001 + 50000)\n",
    "# p4['SourceObjectID'] = range(250001, 250001 + 50000)\n",
    "# p5['SourceObjectID'] = range(300001, 300001 + 100000)\n",
    "#p6['SourceObjectID'] = range(400001, 400001 + 100000)\n",
    "#p7['SourceObjectID'] = range(500001, 500001 + 100000)\n",
    "# p8['SourceObjectID'] = range(600001, 600001 + 100000)\n",
    "#p9['SourceObjectID'] = range(700001, 700001 + 100000)\n",
    "#p10['SourceObjectID'] = range(800001, 800001 + 100000)\n",
    "#p11['SourceObjectID'] = range(900001, 900001 + 250000)\n",
    "p12['SourceObjectID'] = range(1150001, 1150001 + 246739)"
   ]
  },
  {
   "cell_type": "code",
   "execution_count": 5,
   "id": "29da2b8b-cd5b-4004-b3af-926bafe208fa",
   "metadata": {},
   "outputs": [],
   "source": [
    "# define the bad/empty geometries\n",
    "empty_geometry_rows = p12[p12['geometry'].is_empty]"
   ]
  },
  {
   "cell_type": "code",
   "execution_count": 6,
   "id": "25f8a312-eb33-43b4-9eff-826cec353910",
   "metadata": {},
   "outputs": [
    {
     "data": {
      "text/plain": [
       "454"
      ]
     },
     "execution_count": 6,
     "metadata": {},
     "output_type": "execute_result"
    }
   ],
   "source": [
    "# print the count of the empty geometries\n",
    "empty_geometry_rows.shape[0]"
   ]
  },
  {
   "cell_type": "code",
   "execution_count": 7,
   "id": "d04fae20-c478-403d-8a3e-f6d9f2770a50",
   "metadata": {},
   "outputs": [],
   "source": [
    "# empty_geometry_rows['SourceObjectID']"
   ]
  },
  {
   "cell_type": "code",
   "execution_count": 92,
   "id": "56e7efdd-40bb-4c16-823f-c8fc862ce85a",
   "metadata": {},
   "outputs": [],
   "source": [
    "# export bad geometries in a file\n",
    "# empty_geometry_rows.to_csv('Empty geometries.csv')"
   ]
  },
  {
   "cell_type": "code",
   "execution_count": 10,
   "id": "2e0501fb-690b-4ec8-936c-db88d229f74f",
   "metadata": {},
   "outputs": [],
   "source": [
    "# # read the csv file of bad geometries\n",
    "# bad_geoms = pd.read_csv('Empty geometries.csv')"
   ]
  },
  {
   "cell_type": "code",
   "execution_count": 11,
   "id": "2d473442-1dc4-4bd7-b92b-6e11c6089bfe",
   "metadata": {},
   "outputs": [],
   "source": [
    "# # append the empty geoms to the file\n",
    "# bad_geoms = bad_geoms.append(empty_geometry_rows)\n",
    "# bad_geoms.to_csv('Empty geometries.csv')"
   ]
  },
  {
   "cell_type": "code",
   "execution_count": 12,
   "id": "2c9b7967-f52a-4362-9265-6238f4091e05",
   "metadata": {},
   "outputs": [
    {
     "data": {
      "text/plain": [
       "246285"
      ]
     },
     "execution_count": 12,
     "metadata": {},
     "output_type": "execute_result"
    }
   ],
   "source": [
    "# drop the empty geometries from the current chunk/GeoDataFrame\n",
    "p12 = p12.drop(empty_geometry_rows.index)\n",
    "p12.shape[0]"
   ]
  },
  {
   "cell_type": "code",
   "execution_count": 13,
   "id": "a3813cd8-62a2-40cd-ae57-e0da1d00af95",
   "metadata": {
    "tags": []
   },
   "outputs": [],
   "source": [
    "# join the csv table with the current parcels chunk/GeoDataFrame to get all of the needed columns\n",
    "merged = pd.merge(p12, table, how='left', on=['CleanParcelID', 'FullLegalDescription', 'FullOwnerName', 'FullOwnerAddress', 'FullPhysicalAddress'])"
   ]
  },
  {
   "cell_type": "code",
   "execution_count": 14,
   "id": "aba4601c-b453-4358-948d-67bebe024d3a",
   "metadata": {},
   "outputs": [
    {
     "data": {
      "text/plain": [
       "246285"
      ]
     },
     "execution_count": 14,
     "metadata": {},
     "output_type": "execute_result"
    }
   ],
   "source": [
    "merged.shape[0]"
   ]
  },
  {
   "cell_type": "code",
   "execution_count": 15,
   "id": "5a2c90ef-b6fd-4840-8353-fbcd16fe8191",
   "metadata": {},
   "outputs": [
    {
     "data": {
      "text/plain": [
       "Index(['CleanParcelID', 'Label', 'Suffix', 'CountyID', 'FullLegalDescription',\n",
       "       'FullOwnerName', 'FullOwnerAddress', 'FullPhysicalAddress',\n",
       "       'Shape_Length', 'Shape_Area', 'geometry', 'SourceObjectID', 'OID_',\n",
       "       'ID', 'ParcelID', 'DistrictCode', 'TaxDistrict'],\n",
       "      dtype='object')"
      ]
     },
     "execution_count": 15,
     "metadata": {},
     "output_type": "execute_result"
    }
   ],
   "source": [
    "merged.columns"
   ]
  },
  {
   "cell_type": "code",
   "execution_count": 16,
   "id": "79c79f09-4269-4789-ba52-5d5e15251ec7",
   "metadata": {},
   "outputs": [],
   "source": [
    "# merged = merged.drop_duplicates(subset=['SourceObjectID'], keep='first')\n",
    "# merged.shape[0]"
   ]
  },
  {
   "cell_type": "code",
   "execution_count": 18,
   "id": "68cdd69c-8b2a-412c-aa9e-28d0ad491815",
   "metadata": {},
   "outputs": [
    {
     "data": {
      "text/html": [
       "<div>\n",
       "<style scoped>\n",
       "    .dataframe tbody tr th:only-of-type {\n",
       "        vertical-align: middle;\n",
       "    }\n",
       "\n",
       "    .dataframe tbody tr th {\n",
       "        vertical-align: top;\n",
       "    }\n",
       "\n",
       "    .dataframe thead th {\n",
       "        text-align: right;\n",
       "    }\n",
       "</style>\n",
       "<table border=\"1\" class=\"dataframe\">\n",
       "  <thead>\n",
       "    <tr style=\"text-align: right;\">\n",
       "      <th></th>\n",
       "      <th>CleanParcelID</th>\n",
       "      <th>Label</th>\n",
       "      <th>Suffix</th>\n",
       "      <th>CountyID</th>\n",
       "      <th>FullLegalDescription</th>\n",
       "      <th>FullOwnerName</th>\n",
       "      <th>FullOwnerAddress</th>\n",
       "      <th>FullPhysicalAddress</th>\n",
       "      <th>Shape_Length</th>\n",
       "      <th>Shape_Area</th>\n",
       "      <th>geometry</th>\n",
       "      <th>SourceObjectID</th>\n",
       "      <th>OID_</th>\n",
       "      <th>ID</th>\n",
       "      <th>ParcelID</th>\n",
       "      <th>DistrictCode</th>\n",
       "      <th>TaxDistrict</th>\n",
       "    </tr>\n",
       "  </thead>\n",
       "  <tbody>\n",
       "    <tr>\n",
       "      <th>246283</th>\n",
       "      <td>NaN</td>\n",
       "      <td>NaN</td>\n",
       "      <td>NaN</td>\n",
       "      <td>NaN</td>\n",
       "      <td>NaN</td>\n",
       "      <td>NaN</td>\n",
       "      <td>NaN</td>\n",
       "      <td>NaN</td>\n",
       "      <td>754.052651</td>\n",
       "      <td>31096.678743</td>\n",
       "      <td>MULTIPOLYGON (((614483.575 4334491.102, 614462...</td>\n",
       "      <td>1396738</td>\n",
       "      <td>NaN</td>\n",
       "      <td>NaN</td>\n",
       "      <td>NaN</td>\n",
       "      <td>NaN</td>\n",
       "      <td>NaN</td>\n",
       "    </tr>\n",
       "    <tr>\n",
       "      <th>246284</th>\n",
       "      <td>NaN</td>\n",
       "      <td>NaN</td>\n",
       "      <td>NaN</td>\n",
       "      <td>NaN</td>\n",
       "      <td>NaN</td>\n",
       "      <td>NaN</td>\n",
       "      <td>NaN</td>\n",
       "      <td>NaN</td>\n",
       "      <td>754.052651</td>\n",
       "      <td>31096.678743</td>\n",
       "      <td>MULTIPOLYGON (((614483.575 4334491.102, 614462...</td>\n",
       "      <td>1396739</td>\n",
       "      <td>NaN</td>\n",
       "      <td>NaN</td>\n",
       "      <td>NaN</td>\n",
       "      <td>NaN</td>\n",
       "      <td>NaN</td>\n",
       "    </tr>\n",
       "  </tbody>\n",
       "</table>\n",
       "</div>"
      ],
      "text/plain": [
       "       CleanParcelID Label Suffix CountyID FullLegalDescription FullOwnerName  \\\n",
       "246283           NaN   NaN    NaN      NaN                  NaN           NaN   \n",
       "246284           NaN   NaN    NaN      NaN                  NaN           NaN   \n",
       "\n",
       "       FullOwnerAddress FullPhysicalAddress  Shape_Length    Shape_Area  \\\n",
       "246283              NaN                 NaN    754.052651  31096.678743   \n",
       "246284              NaN                 NaN    754.052651  31096.678743   \n",
       "\n",
       "                                                 geometry  SourceObjectID  \\\n",
       "246283  MULTIPOLYGON (((614483.575 4334491.102, 614462...         1396738   \n",
       "246284  MULTIPOLYGON (((614483.575 4334491.102, 614462...         1396739   \n",
       "\n",
       "        OID_  ID ParcelID  DistrictCode  TaxDistrict  \n",
       "246283   NaN NaN      NaN           NaN          NaN  \n",
       "246284   NaN NaN      NaN           NaN          NaN  "
      ]
     },
     "execution_count": 18,
     "metadata": {},
     "output_type": "execute_result"
    }
   ],
   "source": [
    "merged.tail(2)"
   ]
  },
  {
   "cell_type": "code",
   "execution_count": 19,
   "id": "2db783a3-6d87-4d32-974e-04df52283dc7",
   "metadata": {},
   "outputs": [],
   "source": [
    "# drop some columns that are not needed to be loaded to the database\n",
    "merged = merged.drop(columns=['CleanParcelID','OID_','Shape_Length','Shape_Area'])\n",
    "\n",
    "# rename the remain columns to match the same names of the table in the database\n",
    "merged.rename(columns={'ID':'SourceGISID', 'ParcelID':'SourceFullParcelID', 'DistrictCode':'DistrictID',\n",
    "                      'TaxDistrict':'TaxMapID', 'Suffix':'SuffixID', 'FullOwnerName':'SourceFullOwnerName',\n",
    "                      'FullOwnerAddress':'SourceFullOwnerAddress', 'FullPhysicalAddress':'SourceFullPhysicalAddress'}, inplace=True)"
   ]
  },
  {
   "cell_type": "code",
   "execution_count": 20,
   "id": "a311b4f4-4b57-48a5-b729-b9853da1b9fc",
   "metadata": {},
   "outputs": [],
   "source": [
    "# assign values of SourceFullParcelID column to ParcelID column\n",
    "merged['ParcelID'] = merged['SourceFullParcelID']\n",
    "merged.rename(columns={'Label':'SourceLabelName'}, inplace=True)"
   ]
  },
  {
   "cell_type": "code",
   "execution_count": 21,
   "id": "a9f1c5e8-481b-4afd-adb9-602ea4d6958c",
   "metadata": {},
   "outputs": [],
   "source": [
    "# merged.tail()"
   ]
  },
  {
   "cell_type": "code",
   "execution_count": 22,
   "id": "af49b0b1-4706-4a2d-8d1b-79933bcc4c5c",
   "metadata": {},
   "outputs": [],
   "source": [
    "# change the crs of the GeoDataFrame to EPSG:3857\n",
    "merged = merged.to_crs('EPSG:3857')"
   ]
  },
  {
   "cell_type": "code",
   "execution_count": 23,
   "id": "942eca46-9f9b-419b-9281-dc238b0054ba",
   "metadata": {},
   "outputs": [],
   "source": [
    "# create a new empty string column [GeoJSON] to carry all of the values of all of the columns in a GeoJSON format later\n",
    "merged['GeoJSON'] = ''"
   ]
  },
  {
   "cell_type": "code",
   "execution_count": 24,
   "id": "f65ad1a2-1235-4c17-99de-ac00ee5fd952",
   "metadata": {},
   "outputs": [],
   "source": [
    "# assign the name of the source shapefile/dataset to the column DataSource to know the source of the data\n",
    "merged['DataSource'] = 'WV_Parcels_All_Counties'"
   ]
  },
  {
   "cell_type": "code",
   "execution_count": 25,
   "id": "7ab3c486-3658-428c-9563-6a335f978920",
   "metadata": {},
   "outputs": [],
   "source": [
    "# create a 3 new string empty columns, these columns will be filled on the databse using get_date() SQL function\n",
    "merged[['SourceDateTime','SysStartTime','SysEndTime']] = ''"
   ]
  },
  {
   "cell_type": "code",
   "execution_count": 26,
   "id": "bf22d328-b21c-4a76-8d2f-0cd979d849a0",
   "metadata": {},
   "outputs": [],
   "source": [
    "# clean the NaN values by replacing them to 0\n",
    "merged[['SourceGISID','TaxMapID','DistrictID']] = merged[['SourceGISID','TaxMapID','DistrictID']].fillna(0).astype(int)"
   ]
  },
  {
   "cell_type": "code",
   "execution_count": 27,
   "id": "295bc54d-e08a-4c24-b4c2-d6f6406e4027",
   "metadata": {},
   "outputs": [],
   "source": [
    "# replace the 0 values with '' after converting the 3 columns into string\n",
    "merged[['SourceGISID','TaxMapID','DistrictID']] = merged[['SourceGISID','TaxMapID','DistrictID']].astype(str)\n",
    "merged[['SourceGISID','TaxMapID','DistrictID']] = merged[['SourceGISID','TaxMapID','DistrictID']].replace('0','')"
   ]
  },
  {
   "cell_type": "code",
   "execution_count": 28,
   "id": "a2b16e0f-aea3-44bd-a209-19ff7fadd17a",
   "metadata": {},
   "outputs": [],
   "source": [
    "# design a new columns order to make the GeoDataFrame matches the order of the table on the database\n",
    "order = ['SourceObjectID','SourceGISID','SourceFullParcelID','CountyID','DistrictID','TaxMapID','ParcelID','SuffixID','FullLegalDescription',\n",
    "         'SourceFullOwnerName','SourceFullOwnerAddress','SourceFullPhysicalAddress','SourceLabelName','GeoJSON','DataSource','SourceDateTime',\n",
    "        'SysStartTime','SysEndTime','geometry']\n",
    "\n",
    "# convert these columns into string to make them match the data types of the table on the database\n",
    "merged[['SourceObjectID','SourceGISID','DistrictID','TaxMapID']] = merged[['SourceObjectID','SourceGISID','DistrictID','TaxMapID']].astype(str)"
   ]
  },
  {
   "cell_type": "code",
   "execution_count": 29,
   "id": "d93181df-540f-4c56-85db-0bd938780007",
   "metadata": {},
   "outputs": [],
   "source": [
    "# assign the designed order to the GeoDataFrame\n",
    "merged = merged[order]"
   ]
  },
  {
   "cell_type": "code",
   "execution_count": 30,
   "id": "ddd444d3-75b9-40e5-b6ab-e800a013bf65",
   "metadata": {},
   "outputs": [],
   "source": [
    "# merged.head()"
   ]
  },
  {
   "cell_type": "code",
   "execution_count": 31,
   "id": "e6be4dbf-304b-438a-bd86-c6f33be38842",
   "metadata": {},
   "outputs": [],
   "source": [
    "# clean the data by replace nan values with ''\n",
    "merged = merged.replace('nan', '')\n",
    "merged = merged.fillna('')\n",
    "# merged.head()"
   ]
  },
  {
   "cell_type": "code",
   "execution_count": 32,
   "id": "7585acf6-a978-4d90-b29b-af8ac73dde0f",
   "metadata": {},
   "outputs": [],
   "source": [
    "# # fill the GeoJSON column\n",
    "# for index, row in merged.iterrows():\n",
    "#     properties = row.drop('geometry').to_dict()  # Exclude the geometry column\n",
    "#     geometry = mapping(merged['geometry'].iloc[index])  # Convert MultiPolygon to GeoJSON-like dictionary\n",
    "#     feature = {\"type\": \"Feature\",\"properties\": properties,\"geometry\": geometry}\n",
    "#     # Update the 'geojson' column with the GeoJSON string\n",
    "#     merged.at[index, 'GeoJSON'] = json.dumps(feature)"
   ]
  },
  {
   "cell_type": "code",
   "execution_count": 33,
   "id": "23a0691a-3f33-4482-8523-9d6cab1b310f",
   "metadata": {},
   "outputs": [],
   "source": [
    "for index, row in merged.iterrows():\n",
    "    properties = row.drop('geometry').to_dict()  # Exclude the geometry column\n",
    "    geometry = mapping(row['geometry'])  # Convert MultiPolygon to GeoJSON-like dictionary\n",
    "    feature = {\"type\": \"Feature\",\"properties\": properties,\"geometry\": geometry}\n",
    "    # Update the 'geojson' column with the GeoJSON string\n",
    "    merged.at[index, 'GeoJSON'] = json.dumps(feature)"
   ]
  },
  {
   "cell_type": "code",
   "execution_count": 34,
   "id": "d3184c4d-3afa-4c41-96db-6d364f0c52d5",
   "metadata": {},
   "outputs": [],
   "source": [
    "# selected_row = merged.iloc[[87657]]\n",
    "# selected_geodataframe = gpd.GeoDataFrame(selected_row, geometry='geometry')\n",
    "# selected_geodataframe.to_file('bad value.geojson')"
   ]
  },
  {
   "cell_type": "code",
   "execution_count": 35,
   "id": "7770ef78-8572-4cfe-98da-2218ac704f14",
   "metadata": {},
   "outputs": [],
   "source": [
    "# create a new string geometry column and fill it with the values of the actual column of the GeoDataFrame\n",
    "merged['geom'] = ''\n",
    "for idx, row in merged.iterrows():\n",
    "    merged.at[idx, 'geom'] = str(row['geometry'])"
   ]
  },
  {
   "cell_type": "code",
   "execution_count": 36,
   "id": "f9395be3-f319-4cc1-b4fc-acf3a1944faf",
   "metadata": {},
   "outputs": [
    {
     "data": {
      "text/html": [
       "<div>\n",
       "<style scoped>\n",
       "    .dataframe tbody tr th:only-of-type {\n",
       "        vertical-align: middle;\n",
       "    }\n",
       "\n",
       "    .dataframe tbody tr th {\n",
       "        vertical-align: top;\n",
       "    }\n",
       "\n",
       "    .dataframe thead th {\n",
       "        text-align: right;\n",
       "    }\n",
       "</style>\n",
       "<table border=\"1\" class=\"dataframe\">\n",
       "  <thead>\n",
       "    <tr style=\"text-align: right;\">\n",
       "      <th></th>\n",
       "      <th>SourceObjectID</th>\n",
       "      <th>SourceGISID</th>\n",
       "      <th>SourceFullParcelID</th>\n",
       "      <th>CountyID</th>\n",
       "      <th>DistrictID</th>\n",
       "      <th>TaxMapID</th>\n",
       "      <th>ParcelID</th>\n",
       "      <th>SuffixID</th>\n",
       "      <th>FullLegalDescription</th>\n",
       "      <th>SourceFullOwnerName</th>\n",
       "      <th>...</th>\n",
       "      <th>SourceFullPhysicalAddress</th>\n",
       "      <th>SourceLabelName</th>\n",
       "      <th>GeoJSON</th>\n",
       "      <th>DataSource</th>\n",
       "      <th>SourceDateTime</th>\n",
       "      <th>SysStartTime</th>\n",
       "      <th>SysEndTime</th>\n",
       "      <th>geometry</th>\n",
       "      <th>geom</th>\n",
       "      <th>length</th>\n",
       "    </tr>\n",
       "  </thead>\n",
       "  <tbody>\n",
       "    <tr>\n",
       "      <th>224940</th>\n",
       "      <td>1374954</td>\n",
       "      <td></td>\n",
       "      <td></td>\n",
       "      <td>10</td>\n",
       "      <td></td>\n",
       "      <td></td>\n",
       "      <td></td>\n",
       "      <td>0002</td>\n",
       "      <td></td>\n",
       "      <td></td>\n",
       "      <td>...</td>\n",
       "      <td></td>\n",
       "      <td>81E-9999.2</td>\n",
       "      <td>{\"type\": \"Feature\", \"properties\": {\"SourceObje...</td>\n",
       "      <td>WV_Parcels_All_Counties</td>\n",
       "      <td></td>\n",
       "      <td></td>\n",
       "      <td></td>\n",
       "      <td>MULTIPOLYGON (((-9034091.680 4575137.027, -903...</td>\n",
       "      <td>MULTIPOLYGON (((-9034091.680348001 4575137.027...</td>\n",
       "      <td>10602464</td>\n",
       "    </tr>\n",
       "    <tr>\n",
       "      <th>239709</th>\n",
       "      <td>1389737</td>\n",
       "      <td></td>\n",
       "      <td></td>\n",
       "      <td></td>\n",
       "      <td></td>\n",
       "      <td></td>\n",
       "      <td></td>\n",
       "      <td></td>\n",
       "      <td></td>\n",
       "      <td></td>\n",
       "      <td>...</td>\n",
       "      <td></td>\n",
       "      <td></td>\n",
       "      <td>{\"type\": \"Feature\", \"properties\": {\"SourceObje...</td>\n",
       "      <td>WV_Parcels_All_Counties</td>\n",
       "      <td></td>\n",
       "      <td></td>\n",
       "      <td></td>\n",
       "      <td>MULTIPOLYGON (((-9018521.215 4771474.855, -901...</td>\n",
       "      <td>MULTIPOLYGON (((-9018521.215373708 4771474.854...</td>\n",
       "      <td>2702441</td>\n",
       "    </tr>\n",
       "    <tr>\n",
       "      <th>239740</th>\n",
       "      <td>1389768</td>\n",
       "      <td></td>\n",
       "      <td></td>\n",
       "      <td></td>\n",
       "      <td></td>\n",
       "      <td></td>\n",
       "      <td></td>\n",
       "      <td></td>\n",
       "      <td></td>\n",
       "      <td></td>\n",
       "      <td>...</td>\n",
       "      <td></td>\n",
       "      <td></td>\n",
       "      <td>{\"type\": \"Feature\", \"properties\": {\"SourceObje...</td>\n",
       "      <td>WV_Parcels_All_Counties</td>\n",
       "      <td></td>\n",
       "      <td></td>\n",
       "      <td></td>\n",
       "      <td>MULTIPOLYGON (((-9021851.620 4751798.350, -902...</td>\n",
       "      <td>MULTIPOLYGON (((-9021851.619823905 4751798.350...</td>\n",
       "      <td>1428838</td>\n",
       "    </tr>\n",
       "    <tr>\n",
       "      <th>221303</th>\n",
       "      <td>1371317</td>\n",
       "      <td></td>\n",
       "      <td></td>\n",
       "      <td>10</td>\n",
       "      <td></td>\n",
       "      <td></td>\n",
       "      <td></td>\n",
       "      <td>0002</td>\n",
       "      <td></td>\n",
       "      <td></td>\n",
       "      <td>...</td>\n",
       "      <td></td>\n",
       "      <td>109-9999.2</td>\n",
       "      <td>{\"type\": \"Feature\", \"properties\": {\"SourceObje...</td>\n",
       "      <td>WV_Parcels_All_Counties</td>\n",
       "      <td></td>\n",
       "      <td></td>\n",
       "      <td></td>\n",
       "      <td>MULTIPOLYGON (((-8997137.507 4574790.984, -899...</td>\n",
       "      <td>MULTIPOLYGON (((-8997137.507201571 4574790.984...</td>\n",
       "      <td>1286020</td>\n",
       "    </tr>\n",
       "    <tr>\n",
       "      <th>239771</th>\n",
       "      <td>1389799</td>\n",
       "      <td></td>\n",
       "      <td></td>\n",
       "      <td></td>\n",
       "      <td></td>\n",
       "      <td></td>\n",
       "      <td></td>\n",
       "      <td></td>\n",
       "      <td></td>\n",
       "      <td></td>\n",
       "      <td>...</td>\n",
       "      <td></td>\n",
       "      <td></td>\n",
       "      <td>{\"type\": \"Feature\", \"properties\": {\"SourceObje...</td>\n",
       "      <td>WV_Parcels_All_Counties</td>\n",
       "      <td></td>\n",
       "      <td></td>\n",
       "      <td></td>\n",
       "      <td>MULTIPOLYGON (((-9024580.657 4746141.024, -902...</td>\n",
       "      <td>MULTIPOLYGON (((-9024580.656525046 4746141.024...</td>\n",
       "      <td>1101026</td>\n",
       "    </tr>\n",
       "    <tr>\n",
       "      <th>214270</th>\n",
       "      <td>1364284</td>\n",
       "      <td></td>\n",
       "      <td></td>\n",
       "      <td>10</td>\n",
       "      <td></td>\n",
       "      <td></td>\n",
       "      <td></td>\n",
       "      <td>0002</td>\n",
       "      <td></td>\n",
       "      <td></td>\n",
       "      <td>...</td>\n",
       "      <td></td>\n",
       "      <td>13-9999.2</td>\n",
       "      <td>{\"type\": \"Feature\", \"properties\": {\"SourceObje...</td>\n",
       "      <td>WV_Parcels_All_Counties</td>\n",
       "      <td></td>\n",
       "      <td></td>\n",
       "      <td></td>\n",
       "      <td>MULTIPOLYGON (((-9020380.573 4605992.242, -902...</td>\n",
       "      <td>MULTIPOLYGON (((-9020380.57303671 4605992.2424...</td>\n",
       "      <td>973945</td>\n",
       "    </tr>\n",
       "    <tr>\n",
       "      <th>165381</th>\n",
       "      <td>1315395</td>\n",
       "      <td></td>\n",
       "      <td></td>\n",
       "      <td>08</td>\n",
       "      <td></td>\n",
       "      <td></td>\n",
       "      <td></td>\n",
       "      <td>0000</td>\n",
       "      <td>13653.35 AC WTS BUFFALO SUR LESS ROW</td>\n",
       "      <td>ALLEGHENY RURAL NMTC LLC</td>\n",
       "      <td>...</td>\n",
       "      <td></td>\n",
       "      <td>24-23</td>\n",
       "      <td>{\"type\": \"Feature\", \"properties\": {\"SourceObje...</td>\n",
       "      <td>WV_Parcels_All_Counties</td>\n",
       "      <td></td>\n",
       "      <td></td>\n",
       "      <td></td>\n",
       "      <td>MULTIPOLYGON (((-9010031.987 4649352.471, -901...</td>\n",
       "      <td>MULTIPOLYGON (((-9010031.987067925 4649352.471...</td>\n",
       "      <td>965867</td>\n",
       "    </tr>\n",
       "    <tr>\n",
       "      <th>245660</th>\n",
       "      <td>1396114</td>\n",
       "      <td></td>\n",
       "      <td></td>\n",
       "      <td></td>\n",
       "      <td></td>\n",
       "      <td></td>\n",
       "      <td></td>\n",
       "      <td></td>\n",
       "      <td></td>\n",
       "      <td></td>\n",
       "      <td>...</td>\n",
       "      <td></td>\n",
       "      <td></td>\n",
       "      <td>{\"type\": \"Feature\", \"properties\": {\"SourceObje...</td>\n",
       "      <td>WV_Parcels_All_Counties</td>\n",
       "      <td></td>\n",
       "      <td></td>\n",
       "      <td></td>\n",
       "      <td>MULTIPOLYGON (((-9003410.571 4581059.147, -900...</td>\n",
       "      <td>MULTIPOLYGON (((-9003410.570567878 4581059.147...</td>\n",
       "      <td>908455</td>\n",
       "    </tr>\n",
       "    <tr>\n",
       "      <th>239822</th>\n",
       "      <td>1389850</td>\n",
       "      <td></td>\n",
       "      <td></td>\n",
       "      <td></td>\n",
       "      <td></td>\n",
       "      <td></td>\n",
       "      <td></td>\n",
       "      <td></td>\n",
       "      <td></td>\n",
       "      <td></td>\n",
       "      <td>...</td>\n",
       "      <td></td>\n",
       "      <td></td>\n",
       "      <td>{\"type\": \"Feature\", \"properties\": {\"SourceObje...</td>\n",
       "      <td>WV_Parcels_All_Counties</td>\n",
       "      <td></td>\n",
       "      <td></td>\n",
       "      <td></td>\n",
       "      <td>MULTIPOLYGON (((-9016749.996 4753064.133, -901...</td>\n",
       "      <td>MULTIPOLYGON (((-9016749.996499157 4753064.133...</td>\n",
       "      <td>842059</td>\n",
       "    </tr>\n",
       "    <tr>\n",
       "      <th>239755</th>\n",
       "      <td>1389783</td>\n",
       "      <td></td>\n",
       "      <td></td>\n",
       "      <td></td>\n",
       "      <td></td>\n",
       "      <td></td>\n",
       "      <td></td>\n",
       "      <td></td>\n",
       "      <td></td>\n",
       "      <td></td>\n",
       "      <td>...</td>\n",
       "      <td></td>\n",
       "      <td></td>\n",
       "      <td>{\"type\": \"Feature\", \"properties\": {\"SourceObje...</td>\n",
       "      <td>WV_Parcels_All_Counties</td>\n",
       "      <td></td>\n",
       "      <td></td>\n",
       "      <td></td>\n",
       "      <td>MULTIPOLYGON (((-9047386.556 4746248.706, -904...</td>\n",
       "      <td>MULTIPOLYGON (((-9047386.555941409 4746248.705...</td>\n",
       "      <td>817663</td>\n",
       "    </tr>\n",
       "  </tbody>\n",
       "</table>\n",
       "<p>10 rows × 21 columns</p>\n",
       "</div>"
      ],
      "text/plain": [
       "       SourceObjectID SourceGISID SourceFullParcelID CountyID DistrictID  \\\n",
       "224940        1374954                                      10              \n",
       "239709        1389737                                                      \n",
       "239740        1389768                                                      \n",
       "221303        1371317                                      10              \n",
       "239771        1389799                                                      \n",
       "214270        1364284                                      10              \n",
       "165381        1315395                                      08              \n",
       "245660        1396114                                                      \n",
       "239822        1389850                                                      \n",
       "239755        1389783                                                      \n",
       "\n",
       "       TaxMapID ParcelID SuffixID                  FullLegalDescription  \\\n",
       "224940                       0002                                         \n",
       "239709                                                                    \n",
       "239740                                                                    \n",
       "221303                       0002                                         \n",
       "239771                                                                    \n",
       "214270                       0002                                         \n",
       "165381                       0000  13653.35 AC WTS BUFFALO SUR LESS ROW   \n",
       "245660                                                                    \n",
       "239822                                                                    \n",
       "239755                                                                    \n",
       "\n",
       "             SourceFullOwnerName  ... SourceFullPhysicalAddress  \\\n",
       "224940                            ...                             \n",
       "239709                            ...                             \n",
       "239740                            ...                             \n",
       "221303                            ...                             \n",
       "239771                            ...                             \n",
       "214270                            ...                             \n",
       "165381  ALLEGHENY RURAL NMTC LLC  ...                             \n",
       "245660                            ...                             \n",
       "239822                            ...                             \n",
       "239755                            ...                             \n",
       "\n",
       "       SourceLabelName                                            GeoJSON  \\\n",
       "224940      81E-9999.2  {\"type\": \"Feature\", \"properties\": {\"SourceObje...   \n",
       "239709                  {\"type\": \"Feature\", \"properties\": {\"SourceObje...   \n",
       "239740                  {\"type\": \"Feature\", \"properties\": {\"SourceObje...   \n",
       "221303      109-9999.2  {\"type\": \"Feature\", \"properties\": {\"SourceObje...   \n",
       "239771                  {\"type\": \"Feature\", \"properties\": {\"SourceObje...   \n",
       "214270       13-9999.2  {\"type\": \"Feature\", \"properties\": {\"SourceObje...   \n",
       "165381           24-23  {\"type\": \"Feature\", \"properties\": {\"SourceObje...   \n",
       "245660                  {\"type\": \"Feature\", \"properties\": {\"SourceObje...   \n",
       "239822                  {\"type\": \"Feature\", \"properties\": {\"SourceObje...   \n",
       "239755                  {\"type\": \"Feature\", \"properties\": {\"SourceObje...   \n",
       "\n",
       "                     DataSource SourceDateTime SysStartTime SysEndTime  \\\n",
       "224940  WV_Parcels_All_Counties                                          \n",
       "239709  WV_Parcels_All_Counties                                          \n",
       "239740  WV_Parcels_All_Counties                                          \n",
       "221303  WV_Parcels_All_Counties                                          \n",
       "239771  WV_Parcels_All_Counties                                          \n",
       "214270  WV_Parcels_All_Counties                                          \n",
       "165381  WV_Parcels_All_Counties                                          \n",
       "245660  WV_Parcels_All_Counties                                          \n",
       "239822  WV_Parcels_All_Counties                                          \n",
       "239755  WV_Parcels_All_Counties                                          \n",
       "\n",
       "                                                 geometry  \\\n",
       "224940  MULTIPOLYGON (((-9034091.680 4575137.027, -903...   \n",
       "239709  MULTIPOLYGON (((-9018521.215 4771474.855, -901...   \n",
       "239740  MULTIPOLYGON (((-9021851.620 4751798.350, -902...   \n",
       "221303  MULTIPOLYGON (((-8997137.507 4574790.984, -899...   \n",
       "239771  MULTIPOLYGON (((-9024580.657 4746141.024, -902...   \n",
       "214270  MULTIPOLYGON (((-9020380.573 4605992.242, -902...   \n",
       "165381  MULTIPOLYGON (((-9010031.987 4649352.471, -901...   \n",
       "245660  MULTIPOLYGON (((-9003410.571 4581059.147, -900...   \n",
       "239822  MULTIPOLYGON (((-9016749.996 4753064.133, -901...   \n",
       "239755  MULTIPOLYGON (((-9047386.556 4746248.706, -904...   \n",
       "\n",
       "                                                     geom    length  \n",
       "224940  MULTIPOLYGON (((-9034091.680348001 4575137.027...  10602464  \n",
       "239709  MULTIPOLYGON (((-9018521.215373708 4771474.854...   2702441  \n",
       "239740  MULTIPOLYGON (((-9021851.619823905 4751798.350...   1428838  \n",
       "221303  MULTIPOLYGON (((-8997137.507201571 4574790.984...   1286020  \n",
       "239771  MULTIPOLYGON (((-9024580.656525046 4746141.024...   1101026  \n",
       "214270  MULTIPOLYGON (((-9020380.57303671 4605992.2424...    973945  \n",
       "165381  MULTIPOLYGON (((-9010031.987067925 4649352.471...    965867  \n",
       "245660  MULTIPOLYGON (((-9003410.570567878 4581059.147...    908455  \n",
       "239822  MULTIPOLYGON (((-9016749.996499157 4753064.133...    842059  \n",
       "239755  MULTIPOLYGON (((-9047386.555941409 4746248.705...    817663  \n",
       "\n",
       "[10 rows x 21 columns]"
      ]
     },
     "execution_count": 36,
     "metadata": {},
     "output_type": "execute_result"
    }
   ],
   "source": [
    "# checking for the large values of GeoJSON column\n",
    "merged['length'] = merged['GeoJSON'].str.len()\n",
    "top_10 = merged.nlargest(10, 'length')\n",
    "top_10"
   ]
  },
  {
   "cell_type": "code",
   "execution_count": 37,
   "id": "d56d9cd3-af7d-4b83-8f36-578dfe35e559",
   "metadata": {},
   "outputs": [],
   "source": [
    "large_geojson = merged[merged['length'] >= 200000]\n",
    "# large_geojson"
   ]
  },
  {
   "cell_type": "code",
   "execution_count": 38,
   "id": "ebf39ce0-975a-47fd-9311-a52452804ca6",
   "metadata": {},
   "outputs": [
    {
     "data": {
      "text/plain": [
       "51"
      ]
     },
     "execution_count": 38,
     "metadata": {},
     "output_type": "execute_result"
    }
   ],
   "source": [
    "# big_geoms = gpd.read_file('bad value.geojson')\n",
    "# big_geoms = big_geoms.append(large_geojson)\n",
    "# big_geoms.to_file('bad value.geojson')\n",
    "large_geojson.shape[0]"
   ]
  },
  {
   "cell_type": "code",
   "execution_count": 136,
   "id": "c579852b-9759-4ecf-b0fd-1958bda7837a",
   "metadata": {},
   "outputs": [],
   "source": [
    "# large_geojson"
   ]
  },
  {
   "cell_type": "code",
   "execution_count": 39,
   "id": "244241d8-efff-4b69-b896-77e519950c6d",
   "metadata": {},
   "outputs": [
    {
     "data": {
      "text/plain": [
       "246234"
      ]
     },
     "execution_count": 39,
     "metadata": {},
     "output_type": "execute_result"
    }
   ],
   "source": [
    "# ids = ['862319','883900']\n",
    "# large_geojson = merged[merged['SourceObjectID'].isin(ids)]\n",
    "# large_geojson\n",
    "merged.drop(large_geojson.index, inplace=True)\n",
    "merged.shape[0]"
   ]
  },
  {
   "cell_type": "code",
   "execution_count": 40,
   "id": "8e29aedd-c5e2-4d18-8ea5-c1af3e103129",
   "metadata": {},
   "outputs": [
    {
     "data": {
      "text/plain": [
       "Index(['SourceObjectID', 'SourceGISID', 'SourceFullParcelID', 'CountyID',\n",
       "       'DistrictID', 'TaxMapID', 'ParcelID', 'SuffixID',\n",
       "       'FullLegalDescription', 'SourceFullOwnerName', 'SourceFullOwnerAddress',\n",
       "       'SourceFullPhysicalAddress', 'SourceLabelName', 'GeoJSON', 'DataSource',\n",
       "       'SourceDateTime', 'SysStartTime', 'SysEndTime', 'geometry', 'geom'],\n",
       "      dtype='object')"
      ]
     },
     "execution_count": 40,
     "metadata": {},
     "output_type": "execute_result"
    }
   ],
   "source": [
    "merged = merged.drop(columns='length')\n",
    "merged.columns"
   ]
  },
  {
   "cell_type": "code",
   "execution_count": 41,
   "id": "c320916e-ba3f-4849-abbf-e4a1de58e843",
   "metadata": {
    "tags": []
   },
   "outputs": [],
   "source": [
    "# provide the needed credentials to access the database\n",
    "server = 'm1data.database.windows.net' \n",
    "database = 'm1core.v3' \n",
    "username = 'Sayyed_dev' \n",
    "password = 'L32IsFgvF20grxRrXZ08'"
   ]
  },
  {
   "cell_type": "code",
   "execution_count": 42,
   "id": "1efe18f1-8900-4e81-a7bd-897fd534d050",
   "metadata": {},
   "outputs": [],
   "source": [
    "# start building the connection to access the database and load the data to the dedicated table\n",
    "cnxn = pyodbc.connect('DRIVER={SQL Server};SERVER='+server+';DATABASE='+database+';UID='+username+';PWD='+ password)\n",
    "cursor = cnxn.cursor()"
   ]
  },
  {
   "cell_type": "code",
   "execution_count": 43,
   "id": "e4415abb-ef16-45ae-8015-3265f50cb47a",
   "metadata": {},
   "outputs": [],
   "source": [
    "# for index, row in tqdm(merged.iterrows(), total=len(merged)):\n",
    "#     cursor.execute(\"INSERT INTO dbo.WVTaxParcels_Import (SourceObjectID,SourceGISID,SourceFullParcelID,CountyID,DistrictID,TaxMapID,ParcelID,SuffixID,FullLegalDescription,SourceFullOwnerName,SourceFullOwnerAddress,SourceFullPhysicalAddress,SourceLabelName,GeoJSON,Geom,DataSource,SourceDateTime,SysStartTime,SysEndTime) VALUES (?,?,?,?,?,?,?,?,?,?,?,?,?,?,geometry::STGeomFromText(?, 3857),?,?,?,?)\",\n",
    "#                    row.SourceObjectID, row.SourceGISID, row.SourceFullParcelID, row.CountyID, row.DistrictID, row.TaxMapID, row.ParcelID, row.SuffixID,\n",
    "#                    row.FullLegalDescription, row.SourceFullOwnerName, row.SourceFullOwnerAddress, row.SourceFullPhysicalAddress, row.SourceLabelName,\n",
    "#                    row.GeoJSON, row.geom, row.DataSource, row.SourceDateTime, row.SysStartTime, row.SysEndTime)\n",
    "\n",
    "# cnxn.commit()\n",
    "# cursor.close()"
   ]
  },
  {
   "cell_type": "code",
   "execution_count": 44,
   "id": "1e5029e0-fc0d-440c-aa0f-7de58d377cc3",
   "metadata": {},
   "outputs": [
    {
     "data": {
      "text/plain": [
       "Index(['SourceObjectID', 'SourceGISID', 'SourceFullParcelID', 'CountyID',\n",
       "       'DistrictID', 'TaxMapID', 'ParcelID', 'SuffixID',\n",
       "       'FullLegalDescription', 'SourceFullOwnerName', 'SourceFullOwnerAddress',\n",
       "       'SourceFullPhysicalAddress', 'SourceLabelName', 'GeoJSON', 'DataSource',\n",
       "       'SourceDateTime', 'SysStartTime', 'SysEndTime', 'geom'],\n",
       "      dtype='object')"
      ]
     },
     "execution_count": 44,
     "metadata": {},
     "output_type": "execute_result"
    }
   ],
   "source": [
    "# create a new GeoDataFrame to slice it and load data in chunks\n",
    "gdf = merged.drop(columns='geometry')[0:25000]\n",
    "# r = ['590027','590028','590029']\n",
    "# gdf = merged[merged['SourceObjectID'].isin(r)]\n",
    "# اخر رقم في السطر اللي فوق مش بيتحسب ... خليك فاكر\n",
    "gdf.columns"
   ]
  },
  {
   "cell_type": "code",
   "execution_count": 45,
   "id": "cfbf20c5-f7ad-4a7a-a79d-46d6e58b4ba6",
   "metadata": {},
   "outputs": [
    {
     "data": {
      "text/plain": [
       "Index(['SourceObjectID', 'SourceGISID', 'SourceFullParcelID', 'CountyID',\n",
       "       'DistrictID', 'TaxMapID', 'ParcelID', 'SuffixID',\n",
       "       'FullLegalDescription', 'SourceFullOwnerName', 'SourceFullOwnerAddress',\n",
       "       'SourceFullPhysicalAddress', 'SourceLabelName', 'GeoJSON', 'geom',\n",
       "       'DataSource', 'SourceDateTime', 'SysStartTime', 'SysEndTime'],\n",
       "      dtype='object')"
      ]
     },
     "execution_count": 45,
     "metadata": {},
     "output_type": "execute_result"
    }
   ],
   "source": [
    "# assign the order of the columns to the new GeoDataFrame\n",
    "gdf_order = ['SourceObjectID', 'SourceGISID', 'SourceFullParcelID', 'CountyID',\n",
    "       'DistrictID', 'TaxMapID', 'ParcelID', 'SuffixID',\n",
    "       'FullLegalDescription', 'SourceFullOwnerName', 'SourceFullOwnerAddress',\n",
    "       'SourceFullPhysicalAddress', 'SourceLabelName', 'GeoJSON', 'geom', 'DataSource',\n",
    "       'SourceDateTime', 'SysStartTime', 'SysEndTime']\n",
    "\n",
    "gdf = gdf[gdf_order]\n",
    "gdf.columns"
   ]
  },
  {
   "cell_type": "code",
   "execution_count": 46,
   "id": "3ec35f65-d523-4381-9ce3-78f6d9da390d",
   "metadata": {},
   "outputs": [
    {
     "data": {
      "text/plain": [
       "25000"
      ]
     },
     "execution_count": 46,
     "metadata": {},
     "output_type": "execute_result"
    }
   ],
   "source": [
    "gdf.shape[0]"
   ]
  },
  {
   "cell_type": "code",
   "execution_count": 47,
   "id": "77cdd1fe-7d2a-44e6-9adc-dd7b15e1bc8e",
   "metadata": {},
   "outputs": [],
   "source": [
    "# the SQL query that will load the data to the dedicated table on the database\n",
    "sql_query = \"INSERT INTO dbo.WVTaxParcels_Import (SourceObjectID,SourceGISID,SourceFullParcelID,CountyID,DistrictID,TaxMapID,ParcelID,SuffixID,FullLegalDescription,SourceFullOwnerName,SourceFullOwnerAddress,SourceFullPhysicalAddress,SourceLabelName,GeoJSON,Geom,DataSource,SourceDateTime,SysStartTime,SysEndTime) VALUES (?,?,?,?,?,?,?,?,?,?,?,?,?,?,geometry::STGeomFromText(?, 3857),?,?,?,?)\""
   ]
  },
  {
   "cell_type": "code",
   "execution_count": 48,
   "id": "b23ae8c8-ebbc-4d4e-b136-cf4d524b03e9",
   "metadata": {
    "tags": []
   },
   "outputs": [],
   "source": [
    "# for index, row in tqdm(gdf.iterrows(), total=len(gdf)):\n",
    "#     print(row['SourceObjectID'])\n",
    "#     cursor.execute(\"INSERT INTO dbo.WVTaxParcels_Import (SourceObjectID,SourceGISID,SourceFullParcelID,CountyID,DistrictID,TaxMapID,ParcelID,SuffixID,FullLegalDescription,SourceFullOwnerName,SourceFullOwnerAddress,SourceFullPhysicalAddress,SourceLabelName,GeoJSON,Geom,DataSource,SourceDateTime,SysStartTime,SysEndTime) VALUES (?,?,?,?,?,?,?,?,?,?,?,?,?,?,geometry::STGeomFromText(?, 3857),?,?,?,?)\",\n",
    "#                    row.SourceObjectID, row.SourceGISID, row.SourceFullParcelID, row.CountyID, row.DistrictID, row.TaxMapID, row.ParcelID, row.SuffixID,\n",
    "#                    row.FullLegalDescription, row.SourceFullOwnerName, row.SourceFullOwnerAddress, row.SourceFullPhysicalAddress, row.SourceLabelName,\n",
    "#                    row.GeoJSON, row.geom, row.DataSource, row.SourceDateTime, row.SysStartTime, row.SysEndTime)\n",
    "\n",
    "# cnxn.commit()\n",
    "# cursor.close()"
   ]
  },
  {
   "cell_type": "code",
   "execution_count": 49,
   "id": "e88493f9-2612-4644-a9f6-84dfdef8709d",
   "metadata": {},
   "outputs": [],
   "source": [
    "# define the chunk size as 1000 rows\n",
    "data = [tuple(row) for row in gdf.itertuples(index=False)]\n",
    "chunk_size = 1000\n",
    "total_rows = len(data)"
   ]
  },
  {
   "cell_type": "code",
   "execution_count": 50,
   "id": "1e42bda3-9388-4261-8a2c-a4a27a5696ec",
   "metadata": {},
   "outputs": [
    {
     "name": "stderr",
     "output_type": "stream",
     "text": [
      "Inserting rows: 100%|██████████████████████████████████████████████████████████| 25000/25000 [4:37:25<00:00,  1.50it/s]\n"
     ]
    }
   ],
   "source": [
    "# iterate on the chunks and execute the SQL query to the chunks\n",
    "with tqdm(total=total_rows, desc=\"Inserting rows\") as pbar:\n",
    "    for chunk in range(0, total_rows, chunk_size): \n",
    "        chunk_data = data[chunk:chunk+chunk_size]\n",
    "        cursor.executemany(sql_query, chunk_data)\n",
    "        pbar.update(len(chunk_data))\n",
    "\n",
    "cnxn.commit()\n",
    "\n",
    "cursor.close()"
   ]
  },
  {
   "cell_type": "code",
   "execution_count": 83,
   "id": "06be8918-dc73-48fa-9492-0bf1aea92f45",
   "metadata": {
    "tags": []
   },
   "outputs": [],
   "source": [
    "# batch_size = 1000\n",
    "# total_rows = len(gdf)\n",
    "\n",
    "# # Insert rows in batches\n",
    "# for i in range(0, total_rows, batch_size):\n",
    "#     print(i)\n",
    "#     batch = gdf.iloc[i:i+batch_size]\n",
    "#     values = [tuple(row) for row in batch.values]\n",
    "#     cursor.executemany(\"INSERT INTO dbo.WVTaxParcels_Import (SourceObjectID,SourceGISID,SourceFullParcelID,CountyID,DistrictID,TaxMapID,ParcelID,SuffixID,FullLegalDescription,SourceFullOwnerName,SourceFullOwnerAddress,SourceFullPhysicalAddress,SourceLabelName,GeoJSON,Geom,DataSource,SourceDateTime,SysStartTime,SysEndTime) VALUES (?,?,?,?,?,?,?,?,?,?,?,?,?,?,geometry::STGeomFromText(?, 3857),?,?,?,?)\", values)\n",
    "\n",
    "# # Commit the transaction\n",
    "# cnxn.commit()\n",
    "# cursor.close()"
   ]
  },
  {
   "cell_type": "code",
   "execution_count": 84,
   "id": "b274ed1f-9ab3-4758-926d-2609a6bcc4e7",
   "metadata": {
    "tags": []
   },
   "outputs": [],
   "source": [
    "# def load_chunk(chunk):\n",
    "#     # Connect to SQL Server\n",
    "#     cnxn = pyodbc.connect(\"DRIVER={SQL Server};SERVER=m1data.database.windows.net;DATABASE=m1core.v3;UID=Sayyed_dev;PWD=L32IsFgvF20grxRrXZ08\")\n",
    "#     cursor = cnxn.cursor()\n",
    "\n",
    "#     # Your SQL query and table name\n",
    "#     sql_query = sql_query\n",
    "    \n",
    "#     # Execute the query for the current chunk\n",
    "#     cursor.executemany(sql_query, chunk)\n",
    "#     cnxn.commit()\n",
    "\n",
    "#     # Close the connection\n",
    "#     cnxn.close()"
   ]
  },
  {
   "cell_type": "code",
   "execution_count": 85,
   "id": "67522abc-ac9f-4bde-83a3-4f8be4042789",
   "metadata": {
    "tags": []
   },
   "outputs": [],
   "source": [
    "# def load_data(data_chunk):\n",
    "#     # Specify your chunk size\n",
    "#     chunk_size = 20000\n",
    "\n",
    "#     # Split the data into chunks\n",
    "#     chunks = [data_chunk[i:i+chunk_size] for i in range(0, len(data_chunk), chunk_size)]\n",
    "\n",
    "#     # Initialize tqdm for progress tracking\n",
    "#     total_chunks = len(chunks)\n",
    "#     with tqdm(total=total_chunks, desc=\"Inserting rows\") as pbar:\n",
    "#         for chunk in chunks:\n",
    "#             # Load each chunk in parallel\n",
    "#             load_chunk(chunk)\n",
    "#             pbar.update(1)"
   ]
  },
  {
   "cell_type": "code",
   "execution_count": 86,
   "id": "2e227cfb-a4d9-463a-823d-851f767b9dc3",
   "metadata": {
    "tags": []
   },
   "outputs": [],
   "source": [
    "# if __name__ == '__main__':\n",
    "#     # Load your DataFrame here\n",
    "#     data = gdf\n",
    "\n",
    "#     # Split data into chunks for parallel processing\n",
    "#     num_chunks = 5\n",
    "#     chunk_size = len(data) // num_chunks\n",
    "#     data_chunks = [data[i*chunk_size:(i+1)*chunk_size] for i in range(num_chunks)]\n",
    "    \n",
    "#     # Create a pool of processes\n",
    "#     with Pool(cpu_count()) as pool:\n",
    "#         pool.map(load_data, data_chunks)"
   ]
  },
  {
   "cell_type": "code",
   "execution_count": null,
   "id": "916e1ecb-20ce-473b-94dd-8c45c375b459",
   "metadata": {},
   "outputs": [],
   "source": []
  }
 ],
 "metadata": {
  "kernelspec": {
   "display_name": "Python 3 (ipykernel)",
   "language": "python",
   "name": "python3"
  },
  "language_info": {
   "codemirror_mode": {
    "name": "ipython",
    "version": 3
   },
   "file_extension": ".py",
   "mimetype": "text/x-python",
   "name": "python",
   "nbconvert_exporter": "python",
   "pygments_lexer": "ipython3",
   "version": "3.8.18"
  }
 },
 "nbformat": 4,
 "nbformat_minor": 5
}
